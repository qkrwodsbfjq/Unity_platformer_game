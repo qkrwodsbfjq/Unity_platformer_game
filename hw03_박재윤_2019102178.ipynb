{
 "cells": [
  {
   "cell_type": "code",
   "execution_count": 39,
   "metadata": {},
   "outputs": [
    {
     "data": {
      "image/png": "[encoded data removed]",
      "text/plain": [
       "<Figure size 432x288 with 1 Axes>"
      ]
     },
     "metadata": {
      "needs_background": "light"
     },
     "output_type": "display_data"
    }
   ],
   "source": [
    "import random\n",
    "import numpy as np\n",
    "import matplotlib.pyplot as plt\n",
    "\n",
    "def quicksort(arr):\n",
    "    global comparison\n",
    "    if len(arr) <= 1:\n",
    "        return arr\n",
    "    n = len(arr)\n",
    "    pivotpoint = arr[n // 2]\n",
    "    lesser_arr, equal_arr, greater_arr = [], [], []\n",
    "    for num in arr:\n",
    "        if num < pivotpoint:\n",
    "            lesser_arr.append(num)\n",
    "            comparison += 1\n",
    "        elif num > pivotpoint:\n",
    "            greater_arr.append(num)\n",
    "            comparison += 1\n",
    "        else:\n",
    "            equal_arr.append(num)\n",
    "            comparison += 1\n",
    "    return quicksort(lesser_arr) + equal_arr + quicksort(greater_arr)\n",
    "\n",
    "def comparison_array(n):\n",
    "    global comparison \n",
    "    comparison_arr = []\n",
    "    mean_arr = []\n",
    "    for i in n:\n",
    "        comparison_arr=[]\n",
    "        for j in range(20): \n",
    "            arr = []\n",
    "            for k in range(i):\n",
    "                a = random.randrange(1,i)\n",
    "                arr.append(a)    \n",
    "            comparison = 0\n",
    "            quicksort(arr)\n",
    "            comparison_arr.append(comparison)\n",
    "        mean_arr.append(np.mean(comparison_arr))\n",
    "\n",
    "    plt.plot(n, mean_arr)\n",
    "    plt.show()\n",
    "        \n",
    "comparison = 0\n",
    "n = [8, 16, 24, 32, 40]\n",
    "comparison_array(n)"
   ]
  },
  {
   "cell_type": "code",
   "execution_count": null,
   "metadata": {},
   "outputs": [],
   "source": []
  }
 ],
 "metadata": {
  "kernelspec": {
   "display_name": "Python 3",
   "language": "python",
   "name": "python3"
  },
  "language_info": {
   "codemirror_mode": {
    "name": "ipython",
    "version": 3
   },
   "file_extension": ".py",
   "mimetype": "text/x-python",
   "name": "python",
   "nbconvert_exporter": "python",
   "pygments_lexer": "ipython3",
   "version": "3.7.1"
  }
 },
 "nbformat": 4,
 "nbformat_minor": 2
}
