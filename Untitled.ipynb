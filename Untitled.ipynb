{
 "cells": [
  {
   "cell_type": "code",
   "execution_count": 10,
   "metadata": {},
   "outputs": [
    {
     "ename": "SyntaxError",
     "evalue": "invalid syntax (<ipython-input-10-f0d62be8b709>, line 1)",
     "output_type": "error",
     "traceback": [
      "\u001b[1;36m  File \u001b[1;32m\"<ipython-input-10-f0d62be8b709>\"\u001b[1;36m, line \u001b[1;32m1\u001b[0m\n\u001b[1;33m    void sum_of_subsets(index i, int weight, int total){\u001b[0m\n\u001b[1;37m                      ^\u001b[0m\n\u001b[1;31mSyntaxError\u001b[0m\u001b[1;31m:\u001b[0m invalid syntax\n"
     ]
    }
   ],
   "source": [
    "void sum_of_subsets(index i, int weight, int total){\n",
    "    if(promising(i)){\n",
    "        if(weight == W)\n",
    "            cout << include[1] through include[i];\n",
    "        else{\n",
    "            include[i+1] = \"yes\";\n",
    "            sum_of_subsets(i+1, weight + w[i+1], total-w[i+1]);\n",
    "            include[i+1] = \"no\";\n",
    "            sum_of_subsets(i+1, weight, total-w[i+1]);\n",
    "        }\n",
    "    \n",
    "    }\n",
    "    \n",
    "bool promising (index i){\n",
    "    return (weight + total >= W) && weight + w[i+1] <= W);\n",
    "\n",
    "}"
   ]
  },
  {
   "cell_type": "code",
   "execution_count": 13,
   "metadata": {},
   "outputs": [
    {
     "ename": "SyntaxError",
     "evalue": "invalid syntax (<ipython-input-13-d02f1393f3a2>, line 1)",
     "output_type": "error",
     "traceback": [
      "\u001b[1;36m  File \u001b[1;32m\"<ipython-input-13-d02f1393f3a2>\"\u001b[1;36m, line \u001b[1;32m1\u001b[0m\n\u001b[1;33m    void m_coloring(index i){\u001b[0m\n\u001b[1;37m                  ^\u001b[0m\n\u001b[1;31mSyntaxError\u001b[0m\u001b[1;31m:\u001b[0m invalid syntax\n"
     ]
    }
   ],
   "source": [
    "void m_coloring(index i){\n",
    "\n",
    "    int color;\n",
    "    if(promising(i))\n",
    "        if(i==n)\n",
    "            cout<<vcolor[1] 에서 vcolor[n]까지;\n",
    "        else\n",
    "            for(color=1; color<=m; color++){\n",
    "            vcolor[i+1] = color;\n",
    "            m_coloring(i+1);\n",
    "            }\n",
    "}\n",
    "\n",
    "bool promising(index i){\n",
    "    index j;\n",
    "    bool switch = true;\n",
    "    j = 1;\n",
    "    while(j < i && switch){\n",
    "    if(W[i][j] && vcolor[i] == vcolor[j]) \n",
    "        switch = false;\n",
    "    j++;\n",
    "    }\n",
    "    return switch;\n",
    "}"
   ]
  },
  {
   "cell_type": "code",
   "execution_count": null,
   "metadata": {},
   "outputs": [],
   "source": []
  },
  {
   "cell_type": "code",
   "execution_count": null,
   "metadata": {},
   "outputs": [],
   "source": []
  }
 ],
 "metadata": {
  "kernelspec": {
   "display_name": "Python 3",
   "language": "python",
   "name": "python3"
  },
  "language_info": {
   "codemirror_mode": {
    "name": "ipython",
    "version": 3
   },
   "file_extension": ".py",
   "mimetype": "text/x-python",
   "name": "python",
   "nbconvert_exporter": "python",
   "pygments_lexer": "ipython3",
   "version": "3.7.1"
  }
 },
 "nbformat": 4,
 "nbformat_minor": 2
}
