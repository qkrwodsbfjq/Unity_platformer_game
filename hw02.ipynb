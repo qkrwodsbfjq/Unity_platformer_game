{
 "cells": [
  {
   "cell_type": "code",
   "execution_count": 26,
   "metadata": {},
   "outputs": [
    {
     "data": {
      "text/plain": [
       "[1, 2, 3, 4, 5, 6, 7, 8, 9, 10, 11, 12, 13, 14, 15, 16]"
      ]
     },
     "execution_count": 26,
     "metadata": {},
     "output_type": "execute_result"
    }
   ],
   "source": [
    "def mergesort(arr):\n",
    "    if len(arr) < 2:\n",
    "        return arr\n",
    "\n",
    "    n = len(arr)\n",
    "    mid = n // 2\n",
    "    U = mergesort(arr[:mid])\n",
    "    V = mergesort(arr[mid:])\n",
    "\n",
    "    merged_arr = []\n",
    "    l = h = 0\n",
    "    while l < len(U) and h < len(V):\n",
    "        if U[l] < V[h]:\n",
    "            merged_arr.append(U[l])\n",
    "            l += 1\n",
    "        else:\n",
    "            merged_arr.append(V[h])\n",
    "            h += 1\n",
    "    merged_arr += U[l:]\n",
    "    merged_arr += V[h:]\n",
    "    return merged_arr\n",
    "\n",
    "mergesort([11,5,2,16, 12,1,8,15, 6,14,9,3, 10,7,13,4])"
   ]
  }
 ],
 "metadata": {
  "kernelspec": {
   "display_name": "Python 3",
   "language": "python",
   "name": "python3"
  },
  "language_info": {
   "codemirror_mode": {
    "name": "ipython",
    "version": 3
   },
   "file_extension": ".py",
   "mimetype": "text/x-python",
   "name": "python",
   "nbconvert_exporter": "python",
   "pygments_lexer": "ipython3",
   "version": "3.7.1"
  }
 },
 "nbformat": 4,
 "nbformat_minor": 2
}
