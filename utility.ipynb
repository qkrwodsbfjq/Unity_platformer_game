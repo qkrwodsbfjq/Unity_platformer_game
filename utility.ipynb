{
 "cells": [
  {
   "cell_type": "code",
   "execution_count": 1,
   "metadata": {},
   "outputs": [],
   "source": [
    "def printMatrix(d):\n",
    "    m = len(d)\n",
    "    n = len(d[0])\n",
    "    \n",
    "    for i in range(0,m):\n",
    "        for j in range(0,n):\n",
    "            printf(f'{d[i][j]:4d}', end = \" \")\n",
    "        print()\n",
    "        \n",
    "#print float matrix\n",
    "def printMatrixF(d):\n",
    "    n = len(d[0])\n",
    "    for i in range(0,n):\n",
    "        for j in range(0,n):\n",
    "            printf(f'{d[i][j]:5.2f}', end = \" \")\n",
    "        print()\n",
    "        \n",
    "def print_inOrder(root):\n",
    "    if not root:\n",
    "        return\n",
    "    print_inOrder(root.l_child)\n",
    "    print(root.data)\n",
    "    printinOrder(root.r_child)\n",
    "    \n",
    "def print_preOrder(root):\n",
    "    if not root:\n",
    "        return\n",
    "    print(root.data)\n",
    "    print_preOrder(root.l_child)\n",
    "    print_preOrder(root.r_child)\n",
    "    \n",
    "def print_postOrder(root):\n",
    "    if not root:\n",
    "        return\n",
    "    print_postOrder(root.l_child)\n",
    "    print_postOrder(root.r_child)\n",
    "    print(root.data)"
   ]
  },
  {
   "cell_type": "code",
   "execution_count": null,
   "metadata": {},
   "outputs": [],
   "source": []
  }
 ],
 "metadata": {
  "kernelspec": {
   "display_name": "Python 3",
   "language": "python",
   "name": "python3"
  },
  "language_info": {
   "codemirror_mode": {
    "name": "ipython",
    "version": 3
   },
   "file_extension": ".py",
   "mimetype": "text/x-python",
   "name": "python",
   "nbconvert_exporter": "python",
   "pygments_lexer": "ipython3",
   "version": "3.7.1"
  }
 },
 "nbformat": 4,
 "nbformat_minor": 2
}
