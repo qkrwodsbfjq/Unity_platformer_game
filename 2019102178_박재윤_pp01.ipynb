{
 "cells": [
  {
   "cell_type": "code",
   "execution_count": 1,
   "metadata": {},
   "outputs": [
    {
     "name": "stdout",
     "output_type": "stream",
     "text": [
      "[[ 6  8]\n",
      " [10 12]]\n",
      "[[-4 -4]\n",
      " [-4 -4]]\n"
     ]
    }
   ],
   "source": [
    "import numpy as np\n",
    "\n",
    "class Matrix:\n",
    "    def __init__(self, num_1, num_2, num_3, num_4):\n",
    "        self._num_1 = num_1\n",
    "        self._num_2 = num_2\n",
    "        self._num_3 = num_3\n",
    "        self._num_4 = num_4\n",
    "        \n",
    "    def __add__(self, x):\n",
    "        _num_1 = self._num_1 + x._num_1\n",
    "        _num_2 = self._num_2 + x._num_2\n",
    "        _num_3 = self._num_3 + x._num_3\n",
    "        _num_4 = self._num_4 + x._num_4\n",
    "        return np.matrix([[_num_1, _num_2],[_num_3,_num_4]])\n",
    "        \n",
    "    def __sub__(self, x):\n",
    "        _num_1 = self._num_1 - x._num_1\n",
    "        _num_2 = self._num_2 - x._num_2\n",
    "        _num_3 = self._num_3 - x._num_3\n",
    "        _num_4 = self._num_4 - x._num_4\n",
    "        return np.matrix([[_num_1, _num_2],[_num_3,_num_4]])\n",
    "    \n",
    "A  = Matrix(1, 2, 3, 4) \n",
    "B = Matrix(5, 6, 7, 8)\n",
    "\n",
    "C = A+B\n",
    "D = A-B\n",
    "\n",
    "print(C)\n",
    "print(D)\n"
   ]
  },
  {
   "cell_type": "code",
   "execution_count": null,
   "metadata": {},
   "outputs": [],
   "source": []
  }
 ],
 "metadata": {
  "kernelspec": {
   "display_name": "Python 3",
   "language": "python",
   "name": "python3"
  },
  "language_info": {
   "codemirror_mode": {
    "name": "ipython",
    "version": 3
   },
   "file_extension": ".py",
   "mimetype": "text/x-python",
   "name": "python",
   "nbconvert_exporter": "python",
   "pygments_lexer": "ipython3",
   "version": "3.7.1"
  }
 },
 "nbformat": 4,
 "nbformat_minor": 2
}
